{
  "nbformat": 4,
  "nbformat_minor": 0,
  "metadata": {
    "colab": {
      "provenance": []
    },
    "kernelspec": {
      "name": "python3",
      "display_name": "Python 3"
    },
    "language_info": {
      "name": "python"
    }
  },
  "cells": [
    {
      "cell_type": "markdown",
      "source": [
        "#Code written By: Sarthak Srivastava\n",
        "Email: sarthak.s.1603@gmail.com"
      ],
      "metadata": {
        "id": "30XsM3v3o1Ly"
      }
    },
    {
      "cell_type": "markdown",
      "source": [
        "# Objective\n",
        "\n",
        "To build a texutal analysis project. In order to run this notebook end to end you will need to take the following steps:\n",
        "\n",
        "**All files required for running the code are present in the GitHub Repo**\n",
        "\n",
        "1. Go to Runtime -> Run all\n",
        "\n",
        "2. You will be asked for the permission to access Google Drive, you can give this permission as it is only for this runtime and next time it will be asked again, hence no safety concerns.\n",
        "\n",
        "3. All the file paths are hardcoded in the code below.\n",
        "\n",
        "4. Final output.csv file along with article files will be stored in the /content/ folder accessible from the left side.\n",
        "\n",
        "5. In case any websites are not working, their URL will be shown at the end of execution."
      ],
      "metadata": {
        "id": "3duSdpgq4d2-"
      }
    },
    {
      "cell_type": "markdown",
      "source": [
        "# Installing Required Libraries"
      ],
      "metadata": {
        "id": "As6fYoP94aej"
      }
    },
    {
      "cell_type": "code",
      "source": [
        "import os\n",
        "import glob\n",
        "import pandas as pd\n",
        "import string\n",
        "!pip install requests\n",
        "!pip install beautifulsoup4 --q\n",
        "import requests\n",
        "from bs4 import BeautifulSoup\n",
        "import nltk\n",
        "nltk.download('punkt')\n",
        "from nltk.tokenize import sent_tokenize\n",
        "from nltk.tokenize import word_tokenize\n",
        "import re"
      ],
      "metadata": {
        "colab": {
          "base_uri": "https://localhost:8080/"
        },
        "id": "rzvr_xvB4kML",
        "outputId": "95145dce-8848-4cc8-da07-b4a097f3d92b"
      },
      "execution_count": null,
      "outputs": [
        {
          "output_type": "stream",
          "name": "stdout",
          "text": [
            "Requirement already satisfied: requests in /usr/local/lib/python3.10/dist-packages (2.31.0)\n",
            "Requirement already satisfied: charset-normalizer<4,>=2 in /usr/local/lib/python3.10/dist-packages (from requests) (3.3.2)\n",
            "Requirement already satisfied: idna<4,>=2.5 in /usr/local/lib/python3.10/dist-packages (from requests) (3.6)\n",
            "Requirement already satisfied: urllib3<3,>=1.21.1 in /usr/local/lib/python3.10/dist-packages (from requests) (2.0.7)\n",
            "Requirement already satisfied: certifi>=2017.4.17 in /usr/local/lib/python3.10/dist-packages (from requests) (2023.11.17)\n"
          ]
        },
        {
          "output_type": "stream",
          "name": "stderr",
          "text": [
            "[nltk_data] Downloading package punkt to /root/nltk_data...\n",
            "[nltk_data]   Unzipping tokenizers/punkt.zip.\n"
          ]
        }
      ]
    },
    {
      "cell_type": "markdown",
      "source": [
        "# Data Pipeline Setup"
      ],
      "metadata": {
        "id": "eT1N_s0B4YC6"
      }
    },
    {
      "cell_type": "code",
      "source": [
        "from google.colab import drive\n",
        "drive.mount('/content/drive')\n",
        "\n",
        "main_folder = '/content/drive/My Drive/20211030 Test Assignment/'\n",
        "\n",
        "#Collecting all StopWords\n",
        "folder_path = '/content/drive/My Drive/20211030 Test Assignment/StopWords/'\n",
        "files = os.listdir(folder_path)\n",
        "all_stop_words = []\n",
        "for fil in files:\n",
        "  file_path = os.path.join(folder_path, fil)\n",
        "  stopwords = open(file_path, errors='ignore')\n",
        "  stp = stopwords.read()\n",
        "  print(file_path)\n",
        "  all_stop_words.extend(stp.split())\n",
        "all_stop_words = [word.lower() for word in all_stop_words]\n",
        "\n",
        "#Collecting All positive and negative words\n",
        "path = \"/content/drive/My Drive/20211030 Test Assignment/MasterDictionary/\"\n",
        "\n",
        "positive_words = []\n",
        "p = open(path+'positive-words.txt')\n",
        "pw = p.read()\n",
        "\n",
        "for word in pw.split():\n",
        "  if word.lower() not in all_stop_words:\n",
        "    positive_words.append(word)\n",
        "\n",
        "negative_words = []\n",
        "p = open(path+'negative-words.txt', errors='ignore')\n",
        "pw = p.read()\n",
        "\n",
        "for word in pw.split():\n",
        "  if word.lower() not in all_stop_words:\n",
        "    negative_words.append(word)\n",
        "\n"
      ],
      "metadata": {
        "id": "iMDKkdmC4qhi",
        "colab": {
          "base_uri": "https://localhost:8080/"
        },
        "outputId": "1a22da30-f147-467a-f71e-2e5bb7cdb1f9"
      },
      "execution_count": null,
      "outputs": [
        {
          "output_type": "stream",
          "name": "stdout",
          "text": [
            "Drive already mounted at /content/drive; to attempt to forcibly remount, call drive.mount(\"/content/drive\", force_remount=True).\n",
            "/content/drive/My Drive/20211030 Test Assignment/StopWords/StopWords_Currencies.txt\n",
            "/content/drive/My Drive/20211030 Test Assignment/StopWords/StopWords_DatesandNumbers.txt\n",
            "/content/drive/My Drive/20211030 Test Assignment/StopWords/StopWords_Generic.txt\n",
            "/content/drive/My Drive/20211030 Test Assignment/StopWords/StopWords_GenericLong.txt\n",
            "/content/drive/My Drive/20211030 Test Assignment/StopWords/StopWords_Names.txt\n",
            "/content/drive/My Drive/20211030 Test Assignment/StopWords/StopWords_Auditor.txt\n",
            "/content/drive/My Drive/20211030 Test Assignment/StopWords/StopWords_Geographic.txt\n"
          ]
        }
      ]
    },
    {
      "cell_type": "markdown",
      "source": [
        "# Text Extraction\n",
        "In this part we will be downloading the .html file of the webpage using requests library and then parse it using beautiful soup."
      ],
      "metadata": {
        "id": "YtlLLFIb4VNK"
      }
    },
    {
      "cell_type": "code",
      "source": [
        "#Loading Input.xlsx file in pandas dataframe.\n",
        "df = pd.read_excel(os.path.join(main_folder,'Input.xlsx'))"
      ],
      "metadata": {
        "id": "nPXUpF5Y464M"
      },
      "execution_count": null,
      "outputs": []
    },
    {
      "cell_type": "code",
      "source": [
        "#Creating a function that takes in URL and downloads the webpage.\n",
        "\n",
        "def page_downloader(topics_url):\n",
        "    response = requests.get(topics_url)\n",
        "    if response.status_code==200:\n",
        "        page_contents=response.text #saved the page in the variable.\n",
        "\n",
        "    else:\n",
        "        print(\"Cannot download Web-Page :( \")\n",
        "        return None\n",
        "\n",
        "    return(page_contents)"
      ],
      "metadata": {
        "id": "vC3g6GZF6L8n"
      },
      "execution_count": null,
      "outputs": []
    },
    {
      "cell_type": "code",
      "source": [
        "#This function takes in BS4 object and returns page title and and its content in one string.\n",
        "def web_scrapper(doc):\n",
        "\n",
        "  page_title = ''\n",
        "  page_content = ''\n",
        "\n",
        "  #For Type1\n",
        "  div_title = doc.find('div', class_='td-parallax-header')\n",
        "  if div_title:\n",
        "    header_tag = div_title.find('header')\n",
        "    if header_tag:\n",
        "      h1_tag = header_tag.find('h1')\n",
        "      if h1_tag:\n",
        "        page_title = h1_tag.text\n",
        "    div_content = doc.find('div', class_='td-post-content tagdiv-type')\n",
        "    if div_content:\n",
        "      contents = div_content.contents\n",
        "      for content in contents:\n",
        "        page_content += content.text\n",
        "\n",
        "\n",
        "  #For Type2\n",
        "  div_title_1 = doc.find('div', class_='td_block_wrap tdb_title tdi_122 tdb-single-title td-pb-border-top td_block_template_1')\n",
        "  if div_title_1:\n",
        "     div_title_1 = div_title_1.find('div', class_='tdb-block-inner td-fix-index')\n",
        "     contents = div_title_1.contents\n",
        "     for content in contents:\n",
        "      page_title += content.text\n",
        "\n",
        "  div_content_1 = doc.find('div', class_='td_block_wrap tdb_single_content tdi_130 td-pb-border-top td_block_template_1 td-post-content tagdiv-type')\n",
        "  if div_content_1:\n",
        "    div_content_1 = div_content_1.find('div', class_='tdb-block-inner td-fix-index')\n",
        "    contents = div_content_1.contents\n",
        "    for content in contents:\n",
        "      page_content += content.text\n",
        "\n",
        "  return page_title + page_content\n"
      ],
      "metadata": {
        "id": "16vU3rvE-vDC"
      },
      "execution_count": null,
      "outputs": []
    },
    {
      "cell_type": "markdown",
      "source": [
        "#Text Processing"
      ],
      "metadata": {
        "id": "IN5D1oy34SFn"
      }
    },
    {
      "cell_type": "markdown",
      "source": [
        "In this section we process the textand calculate the vaiours metrics."
      ],
      "metadata": {
        "id": "03SY9MoMmzKS"
      }
    },
    {
      "cell_type": "markdown",
      "source": [
        "## Tokenization and Puntuation removal"
      ],
      "metadata": {
        "id": "n3RThG4QpvGr"
      }
    },
    {
      "cell_type": "code",
      "source": [
        "#Starting with tokenization and Puntuation removal.\n",
        "\n",
        "def tokenization(text):\n",
        "  sentences = sent_tokenize(text)\n",
        "  translation_table = str.maketrans('', '', string.punctuation)\n",
        "  sentences = [sentence.translate(translation_table) for sentence in sentences]\n",
        "  words = [word_tokenize(sentence) for sentence in sentences]\n",
        "  return sentences,words\n"
      ],
      "metadata": {
        "id": "p_p9WHNyo9aZ"
      },
      "execution_count": null,
      "outputs": []
    },
    {
      "cell_type": "markdown",
      "source": [
        "## Stopword Removal"
      ],
      "metadata": {
        "id": "BsLw-U4CABLK"
      }
    },
    {
      "cell_type": "code",
      "source": [
        "def remove_stopwords(words):\n",
        "  words = [[word for word in sublist if word not in all_stop_words] for sublist in words]\n",
        "  return words"
      ],
      "metadata": {
        "id": "vCqBeQ0ro6Py"
      },
      "execution_count": null,
      "outputs": []
    },
    {
      "cell_type": "code",
      "source": [
        "def total_words(words):\n",
        "  total_words = sum(len(sublist) for sublist in words)\n",
        "  return total_words"
      ],
      "metadata": {
        "id": "wG9H6vEpzuUM"
      },
      "execution_count": null,
      "outputs": []
    },
    {
      "cell_type": "markdown",
      "source": [
        "## Scores"
      ],
      "metadata": {
        "id": "M93forsFaXss"
      }
    },
    {
      "cell_type": "code",
      "source": [
        "def scores(words):\n",
        "  positive_score = 0\n",
        "  negative_score = 0\n",
        "  for sentence in words:\n",
        "    for word in sentence:\n",
        "      if word in positive_words:\n",
        "        positive_score += 1\n",
        "      if word in negative_words:\n",
        "        negative_score += 1\n",
        "\n",
        "  polarity_score = (positive_score - negative_score)/((positive_score + negative_score) + 0.000001)\n",
        "  subjectivity_score = (positive_score + negative_score) / ((sum(len(sublist) for sublist in words)) + 0.000001)\n",
        "  return positive_score, negative_score, polarity_score, subjectivity_score"
      ],
      "metadata": {
        "id": "WXgjjdlzwtR6"
      },
      "execution_count": null,
      "outputs": []
    },
    {
      "cell_type": "markdown",
      "source": [
        "## Analysis of Readability"
      ],
      "metadata": {
        "id": "_y92zVBIqrbQ"
      }
    },
    {
      "cell_type": "code",
      "source": [
        "#Analysis of readabitily requires complex word count, which requires syllable count.\n",
        "\n",
        "def count_syllables(word):\n",
        "\n",
        "    total = 0\n",
        "    complex_words = 0\n",
        "    exceptions = [\"es\", \"ed\"]\n",
        "    vowels = \"aeiou\"\n",
        "\n",
        "    for sentence in words:\n",
        "      for word in sentence:\n",
        "        for exception in exceptions:\n",
        "          if word.endswith(exception):\n",
        "            word = word[:-len(exception)]\n",
        "            vowel_count = sum(1 for char in word if char in vowels)\n",
        "            if vowel_count > 2:\n",
        "              complex_words += 1\n",
        "            total += vowel_count\n",
        "\n",
        "\n",
        "\n",
        "    return total, complex_words"
      ],
      "metadata": {
        "id": "jS3EGIUPuIGY"
      },
      "execution_count": null,
      "outputs": []
    },
    {
      "cell_type": "code",
      "source": [
        "def aor(words):\n",
        "  average_sentence_length = (sum(len(sublist) for sublist in words)) / len(words)\n",
        "  cw = count_syllables(word)[1]\n",
        "  tw = total_words(words)\n",
        "  percentage_of_cw = cw/tw\n",
        "  fog_index = 0.4 * (average_sentence_length + percentage_of_cw)\n",
        "\n",
        "  return average_sentence_length, percentage_of_cw, fog_index\n",
        "\n"
      ],
      "metadata": {
        "id": "31MDqbwuqpew"
      },
      "execution_count": null,
      "outputs": []
    },
    {
      "cell_type": "markdown",
      "source": [
        "## Average Number of Words Per Sentence\n"
      ],
      "metadata": {
        "id": "kBoPQsgTribI"
      }
    },
    {
      "cell_type": "code",
      "source": [
        "def anown(sum_of_words, sentences):\n",
        "  avg = sum_of_words / len(sentences)\n",
        "  return avg"
      ],
      "metadata": {
        "id": "naEHY11yrl_k"
      },
      "execution_count": null,
      "outputs": []
    },
    {
      "cell_type": "markdown",
      "source": [
        "## Complex Word Count\n"
      ],
      "metadata": {
        "id": "qypoWJ3Y4DIa"
      }
    },
    {
      "cell_type": "markdown",
      "source": [
        "This is already counted before while creating count_syllable function, the result can be obtained by cwc = count_syllable(words)[1]"
      ],
      "metadata": {
        "id": "_b30WcvYmYog"
      }
    },
    {
      "cell_type": "markdown",
      "source": [
        "## Word Count"
      ],
      "metadata": {
        "id": "7SP_7M1T4S28"
      }
    },
    {
      "cell_type": "markdown",
      "source": [
        "Word count can be calculated by total_words function previously created. Example: sum_of_words = total_words(words)\n"
      ],
      "metadata": {
        "id": "9c25wLiHp59w"
      }
    },
    {
      "cell_type": "markdown",
      "source": [
        "## Syllable Count Per Word\n"
      ],
      "metadata": {
        "id": "tuXoDQTi4l9h"
      }
    },
    {
      "cell_type": "markdown",
      "source": [
        "This is already calculated before under total syllables."
      ],
      "metadata": {
        "id": "0uyePizSmRFN"
      }
    },
    {
      "cell_type": "markdown",
      "source": [
        "## Personal Pronouns"
      ],
      "metadata": {
        "id": "K7tocV2x4uo5"
      }
    },
    {
      "cell_type": "code",
      "source": [
        "def sum_personal_pronouns(text):\n",
        "  #Use the very first extracted text as input without lowercasing to not count country US.\n",
        "  pronoun_pattern = re.compile(r'\\b(?:I|we|my|ours|us)\\b', re.IGNORECASE)\n",
        "  excluded_pattern = re.compile(r'\\bUS\\b', re.IGNORECASE)\n",
        "  matches = pronoun_pattern.findall(text)\n",
        "  # Excluding 'US' from the total count.\n",
        "  excluded_matches = excluded_pattern.findall(text)\n",
        "  total_count = len(matches) - len(excluded_matches)\n",
        "\n",
        "  return total_count"
      ],
      "metadata": {
        "id": "PwjhBgCH4x1e"
      },
      "execution_count": null,
      "outputs": []
    },
    {
      "cell_type": "markdown",
      "source": [
        "## Average Word Length"
      ],
      "metadata": {
        "id": "eTvESn9Y8PUr"
      }
    },
    {
      "cell_type": "code",
      "source": [
        "def average_word_length_is(words):\n",
        "  char_count = 0\n",
        "  for sentence in words:\n",
        "    for word in sentence:\n",
        "      char_count += len(word)\n",
        "  sum_of_words = total_words(words)\n",
        "  awl = char_count/sum_of_words\n",
        "  return awl"
      ],
      "metadata": {
        "id": "2WVMj3HW8Roe"
      },
      "execution_count": null,
      "outputs": []
    },
    {
      "cell_type": "markdown",
      "source": [
        "# Final Output Generation"
      ],
      "metadata": {
        "id": "n2BRTqO7nRTJ"
      }
    },
    {
      "cell_type": "code",
      "source": [
        "#Loading Column names from the sample output file:\n",
        "df_1 = pd.read_excel(os.path.join(main_folder,'Output Data Structure.xlsx'))\n",
        "col_names = df_1.columns.to_list()\n",
        "\n",
        "#Creating a blank output dataframe using the extracted column name.\n",
        "output_df = pd.DataFrame(columns=col_names)"
      ],
      "metadata": {
        "id": "FIg4VrX29OaI"
      },
      "execution_count": null,
      "outputs": []
    },
    {
      "cell_type": "code",
      "source": [
        "#Checking blank dataframe\n",
        "output_df"
      ],
      "metadata": {
        "colab": {
          "base_uri": "https://localhost:8080/",
          "height": 138
        },
        "id": "xGSb88gMJzFv",
        "outputId": "a19c913e-dfbc-43a9-df37-540edc5e1384"
      },
      "execution_count": null,
      "outputs": [
        {
          "output_type": "execute_result",
          "data": {
            "text/plain": [
              "Empty DataFrame\n",
              "Columns: [URL_ID, URL, POSITIVE SCORE, NEGATIVE SCORE, POLARITY SCORE, SUBJECTIVITY SCORE, AVG SENTENCE LENGTH, PERCENTAGE OF COMPLEX WORDS, FOG INDEX, AVG NUMBER OF WORDS PER SENTENCE, COMPLEX WORD COUNT, WORD COUNT, SYLLABLE PER WORD, PERSONAL PRONOUNS, AVG WORD LENGTH]\n",
              "Index: []"
            ],
            "text/html": [
              "\n",
              "  <div id=\"df-8b336ece-a67a-4110-b7ad-3216bbde6a61\" class=\"colab-df-container\">\n",
              "    <div>\n",
              "<style scoped>\n",
              "    .dataframe tbody tr th:only-of-type {\n",
              "        vertical-align: middle;\n",
              "    }\n",
              "\n",
              "    .dataframe tbody tr th {\n",
              "        vertical-align: top;\n",
              "    }\n",
              "\n",
              "    .dataframe thead th {\n",
              "        text-align: right;\n",
              "    }\n",
              "</style>\n",
              "<table border=\"1\" class=\"dataframe\">\n",
              "  <thead>\n",
              "    <tr style=\"text-align: right;\">\n",
              "      <th></th>\n",
              "      <th>URL_ID</th>\n",
              "      <th>URL</th>\n",
              "      <th>POSITIVE SCORE</th>\n",
              "      <th>NEGATIVE SCORE</th>\n",
              "      <th>POLARITY SCORE</th>\n",
              "      <th>SUBJECTIVITY SCORE</th>\n",
              "      <th>AVG SENTENCE LENGTH</th>\n",
              "      <th>PERCENTAGE OF COMPLEX WORDS</th>\n",
              "      <th>FOG INDEX</th>\n",
              "      <th>AVG NUMBER OF WORDS PER SENTENCE</th>\n",
              "      <th>COMPLEX WORD COUNT</th>\n",
              "      <th>WORD COUNT</th>\n",
              "      <th>SYLLABLE PER WORD</th>\n",
              "      <th>PERSONAL PRONOUNS</th>\n",
              "      <th>AVG WORD LENGTH</th>\n",
              "    </tr>\n",
              "  </thead>\n",
              "  <tbody>\n",
              "  </tbody>\n",
              "</table>\n",
              "</div>\n",
              "    <div class=\"colab-df-buttons\">\n",
              "\n",
              "  <div class=\"colab-df-container\">\n",
              "    <button class=\"colab-df-convert\" onclick=\"convertToInteractive('df-8b336ece-a67a-4110-b7ad-3216bbde6a61')\"\n",
              "            title=\"Convert this dataframe to an interactive table.\"\n",
              "            style=\"display:none;\">\n",
              "\n",
              "  <svg xmlns=\"http://www.w3.org/2000/svg\" height=\"24px\" viewBox=\"0 -960 960 960\">\n",
              "    <path d=\"M120-120v-720h720v720H120Zm60-500h600v-160H180v160Zm220 220h160v-160H400v160Zm0 220h160v-160H400v160ZM180-400h160v-160H180v160Zm440 0h160v-160H620v160ZM180-180h160v-160H180v160Zm440 0h160v-160H620v160Z\"/>\n",
              "  </svg>\n",
              "    </button>\n",
              "\n",
              "  <style>\n",
              "    .colab-df-container {\n",
              "      display:flex;\n",
              "      gap: 12px;\n",
              "    }\n",
              "\n",
              "    .colab-df-convert {\n",
              "      background-color: #E8F0FE;\n",
              "      border: none;\n",
              "      border-radius: 50%;\n",
              "      cursor: pointer;\n",
              "      display: none;\n",
              "      fill: #1967D2;\n",
              "      height: 32px;\n",
              "      padding: 0 0 0 0;\n",
              "      width: 32px;\n",
              "    }\n",
              "\n",
              "    .colab-df-convert:hover {\n",
              "      background-color: #E2EBFA;\n",
              "      box-shadow: 0px 1px 2px rgba(60, 64, 67, 0.3), 0px 1px 3px 1px rgba(60, 64, 67, 0.15);\n",
              "      fill: #174EA6;\n",
              "    }\n",
              "\n",
              "    .colab-df-buttons div {\n",
              "      margin-bottom: 4px;\n",
              "    }\n",
              "\n",
              "    [theme=dark] .colab-df-convert {\n",
              "      background-color: #3B4455;\n",
              "      fill: #D2E3FC;\n",
              "    }\n",
              "\n",
              "    [theme=dark] .colab-df-convert:hover {\n",
              "      background-color: #434B5C;\n",
              "      box-shadow: 0px 1px 3px 1px rgba(0, 0, 0, 0.15);\n",
              "      filter: drop-shadow(0px 1px 2px rgba(0, 0, 0, 0.3));\n",
              "      fill: #FFFFFF;\n",
              "    }\n",
              "  </style>\n",
              "\n",
              "    <script>\n",
              "      const buttonEl =\n",
              "        document.querySelector('#df-8b336ece-a67a-4110-b7ad-3216bbde6a61 button.colab-df-convert');\n",
              "      buttonEl.style.display =\n",
              "        google.colab.kernel.accessAllowed ? 'block' : 'none';\n",
              "\n",
              "      async function convertToInteractive(key) {\n",
              "        const element = document.querySelector('#df-8b336ece-a67a-4110-b7ad-3216bbde6a61');\n",
              "        const dataTable =\n",
              "          await google.colab.kernel.invokeFunction('convertToInteractive',\n",
              "                                                    [key], {});\n",
              "        if (!dataTable) return;\n",
              "\n",
              "        const docLinkHtml = 'Like what you see? Visit the ' +\n",
              "          '<a target=\"_blank\" href=https://colab.research.google.com/notebooks/data_table.ipynb>data table notebook</a>'\n",
              "          + ' to learn more about interactive tables.';\n",
              "        element.innerHTML = '';\n",
              "        dataTable['output_type'] = 'display_data';\n",
              "        await google.colab.output.renderOutput(dataTable, element);\n",
              "        const docLink = document.createElement('div');\n",
              "        docLink.innerHTML = docLinkHtml;\n",
              "        element.appendChild(docLink);\n",
              "      }\n",
              "    </script>\n",
              "  </div>\n",
              "\n",
              "    </div>\n",
              "  </div>\n"
            ]
          },
          "metadata": {},
          "execution_count": 19
        }
      ]
    },
    {
      "cell_type": "code",
      "source": [
        "#Running a loop containg all the previously created functions.\n",
        "\n",
        "error_on_webpages = []\n",
        "\n",
        "for filename,url in zip(df['URL_ID'],df['URL']):\n",
        "\n",
        "  #Downloading the page\n",
        "  page = page_downloader(url)\n",
        "  if page is None:\n",
        "    error_on_webpages.append(url)\n",
        "    print('Skipping')\n",
        "    continue\n",
        "\n",
        "\n",
        "  #Parsing the page\n",
        "  doc = BeautifulSoup(page, 'html.parser')\n",
        "\n",
        "  #Scrapping the page fpor content\n",
        "  text_final = web_scrapper(doc)\n",
        "  text_final = text_final.replace('\\n', '')\n",
        "  with open(('/content/'+filename+'.txt'), 'w') as file:\n",
        "    file.write(text_final)\n",
        "  print(f\"{filename} is saved as .txt file\")\n",
        "\n",
        "  #Tokenization and Puntuation removal:\n",
        "  sentences, words = tokenization(text_final)\n",
        "\n",
        "  #Remove_Stopwords and count\n",
        "  words = remove_stopwords(words)\n",
        "  sum_of_words = total_words(words)\n",
        "\n",
        "\n",
        "  #Calculate Scores\n",
        "  positive_score, negative_score, polarity_score, subjectivity_score = scores(words)\n",
        "\n",
        "  #AOR\n",
        "  total_syllables , complex_words = count_syllables(words)\n",
        "  average_sentence_length, percentage_of_cw, fog_index = aor(words)\n",
        "\n",
        "  #Average number of Words per sentece\n",
        "  anow_num = anown(sum_of_words,sentences)\n",
        "\n",
        "  #Complex Word count same as complex_words\n",
        "  #Word Count same as sum_of_words.\n",
        "  #Syllable count per word same as total_syllables\n",
        "\n",
        "  #Personal Pronouns count\n",
        "  pp_count = sum_personal_pronouns(text_final)\n",
        "\n",
        "  #Average word Length\n",
        "  average_word_length = average_word_length_is(words)\n",
        "\n",
        "  row_to_append = {'URL_ID' : filename,\n",
        "                   'URL': url,\n",
        "                   'POSITIVE SCORE': positive_score,\n",
        "                   'NEGATIVE SCORE': negative_score,\n",
        "                   'POLARITY SCORE': polarity_score ,\n",
        "                   'SUBJECTIVITY SCORE': subjectivity_score,\n",
        "                   'AVG SENTENCE LENGTH': average_sentence_length,\n",
        "                   'PERCENTAGE OF COMPLEX WORDS':percentage_of_cw,\n",
        "                   'FOG INDEX':fog_index,\n",
        "                   'AVG NUMBER OF WORDS PER SENTENCE':anow_num,\n",
        "                   'COMPLEX WORD COUNT': complex_words,\n",
        "                   'WORD COUNT':sum_of_words,\n",
        "                   'SYLLABLE PER WORD': total_syllables,\n",
        "                   'PERSONAL PRONOUNS':pp_count,\n",
        "                   'AVG WORD LENGTH': average_word_length}\n",
        "  output_df = output_df.append(row_to_append,ignore_index=True)\n",
        "  print(f\"Successfully processed {filename}.\")\n",
        "\n",
        "output_df.to_csv('/content/output.csv', index=False)\n",
        "\n",
        "print('')\n",
        "print(\"All files processed, kindly find .txt article files and output.csv file in the '/content/' folder.\")\n",
        "print('The following webpages could not be downloaded:')\n",
        "for item in error_on_webpages:\n",
        "  print(item)\n",
        "\n",
        "print('*******END OF EXECUTION*******')"
      ],
      "metadata": {
        "colab": {
          "base_uri": "https://localhost:8080/"
        },
        "id": "kyksk75TDiRG",
        "outputId": "46ca35b0-e054-4dc7-eac7-36c46072bdab"
      },
      "execution_count": null,
      "outputs": [
        {
          "output_type": "stream",
          "name": "stdout",
          "text": [
            "blackassign0001 is saved as .txt file\n"
          ]
        },
        {
          "output_type": "stream",
          "name": "stderr",
          "text": [
            "<ipython-input-20-98410a77cef0>:68: FutureWarning: The frame.append method is deprecated and will be removed from pandas in a future version. Use pandas.concat instead.\n",
            "  output_df = output_df.append(row_to_append,ignore_index=True)\n"
          ]
        },
        {
          "output_type": "stream",
          "name": "stdout",
          "text": [
            "Successfully processed blackassign0001.\n",
            "blackassign0002 is saved as .txt file\n"
          ]
        },
        {
          "output_type": "stream",
          "name": "stderr",
          "text": [
            "<ipython-input-20-98410a77cef0>:68: FutureWarning: The frame.append method is deprecated and will be removed from pandas in a future version. Use pandas.concat instead.\n",
            "  output_df = output_df.append(row_to_append,ignore_index=True)\n"
          ]
        },
        {
          "output_type": "stream",
          "name": "stdout",
          "text": [
            "Successfully processed blackassign0002.\n",
            "blackassign0003 is saved as .txt file\n"
          ]
        },
        {
          "output_type": "stream",
          "name": "stderr",
          "text": [
            "<ipython-input-20-98410a77cef0>:68: FutureWarning: The frame.append method is deprecated and will be removed from pandas in a future version. Use pandas.concat instead.\n",
            "  output_df = output_df.append(row_to_append,ignore_index=True)\n"
          ]
        },
        {
          "output_type": "stream",
          "name": "stdout",
          "text": [
            "Successfully processed blackassign0003.\n",
            "blackassign0004 is saved as .txt file\n"
          ]
        },
        {
          "output_type": "stream",
          "name": "stderr",
          "text": [
            "<ipython-input-20-98410a77cef0>:68: FutureWarning: The frame.append method is deprecated and will be removed from pandas in a future version. Use pandas.concat instead.\n",
            "  output_df = output_df.append(row_to_append,ignore_index=True)\n"
          ]
        },
        {
          "output_type": "stream",
          "name": "stdout",
          "text": [
            "Successfully processed blackassign0004.\n",
            "blackassign0005 is saved as .txt file\n",
            "Successfully processed blackassign0005.\n"
          ]
        },
        {
          "output_type": "stream",
          "name": "stderr",
          "text": [
            "<ipython-input-20-98410a77cef0>:68: FutureWarning: The frame.append method is deprecated and will be removed from pandas in a future version. Use pandas.concat instead.\n",
            "  output_df = output_df.append(row_to_append,ignore_index=True)\n"
          ]
        },
        {
          "output_type": "stream",
          "name": "stdout",
          "text": [
            "blackassign0006 is saved as .txt file\n"
          ]
        },
        {
          "output_type": "stream",
          "name": "stderr",
          "text": [
            "<ipython-input-20-98410a77cef0>:68: FutureWarning: The frame.append method is deprecated and will be removed from pandas in a future version. Use pandas.concat instead.\n",
            "  output_df = output_df.append(row_to_append,ignore_index=True)\n"
          ]
        },
        {
          "output_type": "stream",
          "name": "stdout",
          "text": [
            "Successfully processed blackassign0006.\n",
            "blackassign0007 is saved as .txt file\n"
          ]
        },
        {
          "output_type": "stream",
          "name": "stderr",
          "text": [
            "<ipython-input-20-98410a77cef0>:68: FutureWarning: The frame.append method is deprecated and will be removed from pandas in a future version. Use pandas.concat instead.\n",
            "  output_df = output_df.append(row_to_append,ignore_index=True)\n"
          ]
        },
        {
          "output_type": "stream",
          "name": "stdout",
          "text": [
            "Successfully processed blackassign0007.\n",
            "blackassign0008 is saved as .txt file\n"
          ]
        },
        {
          "output_type": "stream",
          "name": "stderr",
          "text": [
            "<ipython-input-20-98410a77cef0>:68: FutureWarning: The frame.append method is deprecated and will be removed from pandas in a future version. Use pandas.concat instead.\n",
            "  output_df = output_df.append(row_to_append,ignore_index=True)\n"
          ]
        },
        {
          "output_type": "stream",
          "name": "stdout",
          "text": [
            "Successfully processed blackassign0008.\n",
            "blackassign0009 is saved as .txt file\n"
          ]
        },
        {
          "output_type": "stream",
          "name": "stderr",
          "text": [
            "<ipython-input-20-98410a77cef0>:68: FutureWarning: The frame.append method is deprecated and will be removed from pandas in a future version. Use pandas.concat instead.\n",
            "  output_df = output_df.append(row_to_append,ignore_index=True)\n"
          ]
        },
        {
          "output_type": "stream",
          "name": "stdout",
          "text": [
            "Successfully processed blackassign0009.\n",
            "blackassign0010 is saved as .txt file\n"
          ]
        },
        {
          "output_type": "stream",
          "name": "stderr",
          "text": [
            "<ipython-input-20-98410a77cef0>:68: FutureWarning: The frame.append method is deprecated and will be removed from pandas in a future version. Use pandas.concat instead.\n",
            "  output_df = output_df.append(row_to_append,ignore_index=True)\n"
          ]
        },
        {
          "output_type": "stream",
          "name": "stdout",
          "text": [
            "Successfully processed blackassign0010.\n",
            "blackassign0011 is saved as .txt file\n"
          ]
        },
        {
          "output_type": "stream",
          "name": "stderr",
          "text": [
            "<ipython-input-20-98410a77cef0>:68: FutureWarning: The frame.append method is deprecated and will be removed from pandas in a future version. Use pandas.concat instead.\n",
            "  output_df = output_df.append(row_to_append,ignore_index=True)\n"
          ]
        },
        {
          "output_type": "stream",
          "name": "stdout",
          "text": [
            "Successfully processed blackassign0011.\n",
            "blackassign0012 is saved as .txt file\n"
          ]
        },
        {
          "output_type": "stream",
          "name": "stderr",
          "text": [
            "<ipython-input-20-98410a77cef0>:68: FutureWarning: The frame.append method is deprecated and will be removed from pandas in a future version. Use pandas.concat instead.\n",
            "  output_df = output_df.append(row_to_append,ignore_index=True)\n"
          ]
        },
        {
          "output_type": "stream",
          "name": "stdout",
          "text": [
            "Successfully processed blackassign0012.\n",
            "blackassign0013 is saved as .txt file\n",
            "Successfully processed blackassign0013.\n"
          ]
        },
        {
          "output_type": "stream",
          "name": "stderr",
          "text": [
            "<ipython-input-20-98410a77cef0>:68: FutureWarning: The frame.append method is deprecated and will be removed from pandas in a future version. Use pandas.concat instead.\n",
            "  output_df = output_df.append(row_to_append,ignore_index=True)\n"
          ]
        },
        {
          "output_type": "stream",
          "name": "stdout",
          "text": [
            "blackassign0014 is saved as .txt file\n",
            "Successfully processed blackassign0014.\n"
          ]
        },
        {
          "output_type": "stream",
          "name": "stderr",
          "text": [
            "<ipython-input-20-98410a77cef0>:68: FutureWarning: The frame.append method is deprecated and will be removed from pandas in a future version. Use pandas.concat instead.\n",
            "  output_df = output_df.append(row_to_append,ignore_index=True)\n"
          ]
        },
        {
          "output_type": "stream",
          "name": "stdout",
          "text": [
            "blackassign0015 is saved as .txt file\n"
          ]
        },
        {
          "output_type": "stream",
          "name": "stderr",
          "text": [
            "<ipython-input-20-98410a77cef0>:68: FutureWarning: The frame.append method is deprecated and will be removed from pandas in a future version. Use pandas.concat instead.\n",
            "  output_df = output_df.append(row_to_append,ignore_index=True)\n"
          ]
        },
        {
          "output_type": "stream",
          "name": "stdout",
          "text": [
            "Successfully processed blackassign0015.\n",
            "blackassign0016 is saved as .txt file\n"
          ]
        },
        {
          "output_type": "stream",
          "name": "stderr",
          "text": [
            "<ipython-input-20-98410a77cef0>:68: FutureWarning: The frame.append method is deprecated and will be removed from pandas in a future version. Use pandas.concat instead.\n",
            "  output_df = output_df.append(row_to_append,ignore_index=True)\n"
          ]
        },
        {
          "output_type": "stream",
          "name": "stdout",
          "text": [
            "Successfully processed blackassign0016.\n",
            "blackassign0017 is saved as .txt file\n"
          ]
        },
        {
          "output_type": "stream",
          "name": "stderr",
          "text": [
            "<ipython-input-20-98410a77cef0>:68: FutureWarning: The frame.append method is deprecated and will be removed from pandas in a future version. Use pandas.concat instead.\n",
            "  output_df = output_df.append(row_to_append,ignore_index=True)\n"
          ]
        },
        {
          "output_type": "stream",
          "name": "stdout",
          "text": [
            "Successfully processed blackassign0017.\n",
            "blackassign0018 is saved as .txt file\n"
          ]
        },
        {
          "output_type": "stream",
          "name": "stderr",
          "text": [
            "<ipython-input-20-98410a77cef0>:68: FutureWarning: The frame.append method is deprecated and will be removed from pandas in a future version. Use pandas.concat instead.\n",
            "  output_df = output_df.append(row_to_append,ignore_index=True)\n"
          ]
        },
        {
          "output_type": "stream",
          "name": "stdout",
          "text": [
            "Successfully processed blackassign0018.\n",
            "blackassign0019 is saved as .txt file\n"
          ]
        },
        {
          "output_type": "stream",
          "name": "stderr",
          "text": [
            "<ipython-input-20-98410a77cef0>:68: FutureWarning: The frame.append method is deprecated and will be removed from pandas in a future version. Use pandas.concat instead.\n",
            "  output_df = output_df.append(row_to_append,ignore_index=True)\n"
          ]
        },
        {
          "output_type": "stream",
          "name": "stdout",
          "text": [
            "Successfully processed blackassign0019.\n",
            "blackassign0020 is saved as .txt file\n",
            "Successfully processed blackassign0020.\n"
          ]
        },
        {
          "output_type": "stream",
          "name": "stderr",
          "text": [
            "<ipython-input-20-98410a77cef0>:68: FutureWarning: The frame.append method is deprecated and will be removed from pandas in a future version. Use pandas.concat instead.\n",
            "  output_df = output_df.append(row_to_append,ignore_index=True)\n"
          ]
        },
        {
          "output_type": "stream",
          "name": "stdout",
          "text": [
            "blackassign0021 is saved as .txt file\n",
            "Successfully processed blackassign0021.\n"
          ]
        },
        {
          "output_type": "stream",
          "name": "stderr",
          "text": [
            "<ipython-input-20-98410a77cef0>:68: FutureWarning: The frame.append method is deprecated and will be removed from pandas in a future version. Use pandas.concat instead.\n",
            "  output_df = output_df.append(row_to_append,ignore_index=True)\n"
          ]
        },
        {
          "output_type": "stream",
          "name": "stdout",
          "text": [
            "blackassign0022 is saved as .txt file\n",
            "Successfully processed blackassign0022.\n"
          ]
        },
        {
          "output_type": "stream",
          "name": "stderr",
          "text": [
            "<ipython-input-20-98410a77cef0>:68: FutureWarning: The frame.append method is deprecated and will be removed from pandas in a future version. Use pandas.concat instead.\n",
            "  output_df = output_df.append(row_to_append,ignore_index=True)\n"
          ]
        },
        {
          "output_type": "stream",
          "name": "stdout",
          "text": [
            "blackassign0023 is saved as .txt file\n"
          ]
        },
        {
          "output_type": "stream",
          "name": "stderr",
          "text": [
            "<ipython-input-20-98410a77cef0>:68: FutureWarning: The frame.append method is deprecated and will be removed from pandas in a future version. Use pandas.concat instead.\n",
            "  output_df = output_df.append(row_to_append,ignore_index=True)\n"
          ]
        },
        {
          "output_type": "stream",
          "name": "stdout",
          "text": [
            "Successfully processed blackassign0023.\n",
            "blackassign0024 is saved as .txt file\n",
            "Successfully processed blackassign0024.\n"
          ]
        },
        {
          "output_type": "stream",
          "name": "stderr",
          "text": [
            "<ipython-input-20-98410a77cef0>:68: FutureWarning: The frame.append method is deprecated and will be removed from pandas in a future version. Use pandas.concat instead.\n",
            "  output_df = output_df.append(row_to_append,ignore_index=True)\n"
          ]
        },
        {
          "output_type": "stream",
          "name": "stdout",
          "text": [
            "blackassign0025 is saved as .txt file\n",
            "Successfully processed blackassign0025.\n"
          ]
        },
        {
          "output_type": "stream",
          "name": "stderr",
          "text": [
            "<ipython-input-20-98410a77cef0>:68: FutureWarning: The frame.append method is deprecated and will be removed from pandas in a future version. Use pandas.concat instead.\n",
            "  output_df = output_df.append(row_to_append,ignore_index=True)\n"
          ]
        },
        {
          "output_type": "stream",
          "name": "stdout",
          "text": [
            "blackassign0026 is saved as .txt file\n",
            "Successfully processed blackassign0026.\n"
          ]
        },
        {
          "output_type": "stream",
          "name": "stderr",
          "text": [
            "<ipython-input-20-98410a77cef0>:68: FutureWarning: The frame.append method is deprecated and will be removed from pandas in a future version. Use pandas.concat instead.\n",
            "  output_df = output_df.append(row_to_append,ignore_index=True)\n"
          ]
        },
        {
          "output_type": "stream",
          "name": "stdout",
          "text": [
            "blackassign0027 is saved as .txt file\n"
          ]
        },
        {
          "output_type": "stream",
          "name": "stderr",
          "text": [
            "<ipython-input-20-98410a77cef0>:68: FutureWarning: The frame.append method is deprecated and will be removed from pandas in a future version. Use pandas.concat instead.\n",
            "  output_df = output_df.append(row_to_append,ignore_index=True)\n"
          ]
        },
        {
          "output_type": "stream",
          "name": "stdout",
          "text": [
            "Successfully processed blackassign0027.\n",
            "blackassign0028 is saved as .txt file\n"
          ]
        },
        {
          "output_type": "stream",
          "name": "stderr",
          "text": [
            "<ipython-input-20-98410a77cef0>:68: FutureWarning: The frame.append method is deprecated and will be removed from pandas in a future version. Use pandas.concat instead.\n",
            "  output_df = output_df.append(row_to_append,ignore_index=True)\n"
          ]
        },
        {
          "output_type": "stream",
          "name": "stdout",
          "text": [
            "Successfully processed blackassign0028.\n",
            "blackassign0029 is saved as .txt file\n"
          ]
        },
        {
          "output_type": "stream",
          "name": "stderr",
          "text": [
            "<ipython-input-20-98410a77cef0>:68: FutureWarning: The frame.append method is deprecated and will be removed from pandas in a future version. Use pandas.concat instead.\n",
            "  output_df = output_df.append(row_to_append,ignore_index=True)\n"
          ]
        },
        {
          "output_type": "stream",
          "name": "stdout",
          "text": [
            "Successfully processed blackassign0029.\n",
            "blackassign0030 is saved as .txt file\n"
          ]
        },
        {
          "output_type": "stream",
          "name": "stderr",
          "text": [
            "<ipython-input-20-98410a77cef0>:68: FutureWarning: The frame.append method is deprecated and will be removed from pandas in a future version. Use pandas.concat instead.\n",
            "  output_df = output_df.append(row_to_append,ignore_index=True)\n"
          ]
        },
        {
          "output_type": "stream",
          "name": "stdout",
          "text": [
            "Successfully processed blackassign0030.\n",
            "blackassign0031 is saved as .txt file\n"
          ]
        },
        {
          "output_type": "stream",
          "name": "stderr",
          "text": [
            "<ipython-input-20-98410a77cef0>:68: FutureWarning: The frame.append method is deprecated and will be removed from pandas in a future version. Use pandas.concat instead.\n",
            "  output_df = output_df.append(row_to_append,ignore_index=True)\n"
          ]
        },
        {
          "output_type": "stream",
          "name": "stdout",
          "text": [
            "Successfully processed blackassign0031.\n",
            "blackassign0032 is saved as .txt file\n"
          ]
        },
        {
          "output_type": "stream",
          "name": "stderr",
          "text": [
            "<ipython-input-20-98410a77cef0>:68: FutureWarning: The frame.append method is deprecated and will be removed from pandas in a future version. Use pandas.concat instead.\n",
            "  output_df = output_df.append(row_to_append,ignore_index=True)\n"
          ]
        },
        {
          "output_type": "stream",
          "name": "stdout",
          "text": [
            "Successfully processed blackassign0032.\n",
            "blackassign0033 is saved as .txt file\n"
          ]
        },
        {
          "output_type": "stream",
          "name": "stderr",
          "text": [
            "<ipython-input-20-98410a77cef0>:68: FutureWarning: The frame.append method is deprecated and will be removed from pandas in a future version. Use pandas.concat instead.\n",
            "  output_df = output_df.append(row_to_append,ignore_index=True)\n"
          ]
        },
        {
          "output_type": "stream",
          "name": "stdout",
          "text": [
            "Successfully processed blackassign0033.\n",
            "blackassign0034 is saved as .txt file\n"
          ]
        },
        {
          "output_type": "stream",
          "name": "stderr",
          "text": [
            "<ipython-input-20-98410a77cef0>:68: FutureWarning: The frame.append method is deprecated and will be removed from pandas in a future version. Use pandas.concat instead.\n",
            "  output_df = output_df.append(row_to_append,ignore_index=True)\n"
          ]
        },
        {
          "output_type": "stream",
          "name": "stdout",
          "text": [
            "Successfully processed blackassign0034.\n",
            "blackassign0035 is saved as .txt file\n",
            "Successfully processed blackassign0035.\n"
          ]
        },
        {
          "output_type": "stream",
          "name": "stderr",
          "text": [
            "<ipython-input-20-98410a77cef0>:68: FutureWarning: The frame.append method is deprecated and will be removed from pandas in a future version. Use pandas.concat instead.\n",
            "  output_df = output_df.append(row_to_append,ignore_index=True)\n"
          ]
        },
        {
          "output_type": "stream",
          "name": "stdout",
          "text": [
            "Cannot download Web-Page :( \n",
            "Skipping\n",
            "blackassign0037 is saved as .txt file\n",
            "Successfully processed blackassign0037.\n"
          ]
        },
        {
          "output_type": "stream",
          "name": "stderr",
          "text": [
            "<ipython-input-20-98410a77cef0>:68: FutureWarning: The frame.append method is deprecated and will be removed from pandas in a future version. Use pandas.concat instead.\n",
            "  output_df = output_df.append(row_to_append,ignore_index=True)\n"
          ]
        },
        {
          "output_type": "stream",
          "name": "stdout",
          "text": [
            "blackassign0038 is saved as .txt file\n"
          ]
        },
        {
          "output_type": "stream",
          "name": "stderr",
          "text": [
            "<ipython-input-20-98410a77cef0>:68: FutureWarning: The frame.append method is deprecated and will be removed from pandas in a future version. Use pandas.concat instead.\n",
            "  output_df = output_df.append(row_to_append,ignore_index=True)\n"
          ]
        },
        {
          "output_type": "stream",
          "name": "stdout",
          "text": [
            "Successfully processed blackassign0038.\n",
            "blackassign0039 is saved as .txt file\n"
          ]
        },
        {
          "output_type": "stream",
          "name": "stderr",
          "text": [
            "<ipython-input-20-98410a77cef0>:68: FutureWarning: The frame.append method is deprecated and will be removed from pandas in a future version. Use pandas.concat instead.\n",
            "  output_df = output_df.append(row_to_append,ignore_index=True)\n"
          ]
        },
        {
          "output_type": "stream",
          "name": "stdout",
          "text": [
            "Successfully processed blackassign0039.\n",
            "blackassign0040 is saved as .txt file\n"
          ]
        },
        {
          "output_type": "stream",
          "name": "stderr",
          "text": [
            "<ipython-input-20-98410a77cef0>:68: FutureWarning: The frame.append method is deprecated and will be removed from pandas in a future version. Use pandas.concat instead.\n",
            "  output_df = output_df.append(row_to_append,ignore_index=True)\n"
          ]
        },
        {
          "output_type": "stream",
          "name": "stdout",
          "text": [
            "Successfully processed blackassign0040.\n",
            "blackassign0041 is saved as .txt file\n"
          ]
        },
        {
          "output_type": "stream",
          "name": "stderr",
          "text": [
            "<ipython-input-20-98410a77cef0>:68: FutureWarning: The frame.append method is deprecated and will be removed from pandas in a future version. Use pandas.concat instead.\n",
            "  output_df = output_df.append(row_to_append,ignore_index=True)\n"
          ]
        },
        {
          "output_type": "stream",
          "name": "stdout",
          "text": [
            "Successfully processed blackassign0041.\n",
            "blackassign0042 is saved as .txt file\n"
          ]
        },
        {
          "output_type": "stream",
          "name": "stderr",
          "text": [
            "<ipython-input-20-98410a77cef0>:68: FutureWarning: The frame.append method is deprecated and will be removed from pandas in a future version. Use pandas.concat instead.\n",
            "  output_df = output_df.append(row_to_append,ignore_index=True)\n"
          ]
        },
        {
          "output_type": "stream",
          "name": "stdout",
          "text": [
            "Successfully processed blackassign0042.\n",
            "blackassign0043 is saved as .txt file\n"
          ]
        },
        {
          "output_type": "stream",
          "name": "stderr",
          "text": [
            "<ipython-input-20-98410a77cef0>:68: FutureWarning: The frame.append method is deprecated and will be removed from pandas in a future version. Use pandas.concat instead.\n",
            "  output_df = output_df.append(row_to_append,ignore_index=True)\n"
          ]
        },
        {
          "output_type": "stream",
          "name": "stdout",
          "text": [
            "Successfully processed blackassign0043.\n",
            "blackassign0044 is saved as .txt file\n",
            "Successfully processed blackassign0044.\n"
          ]
        },
        {
          "output_type": "stream",
          "name": "stderr",
          "text": [
            "<ipython-input-20-98410a77cef0>:68: FutureWarning: The frame.append method is deprecated and will be removed from pandas in a future version. Use pandas.concat instead.\n",
            "  output_df = output_df.append(row_to_append,ignore_index=True)\n"
          ]
        },
        {
          "output_type": "stream",
          "name": "stdout",
          "text": [
            "blackassign0045 is saved as .txt file\n"
          ]
        },
        {
          "output_type": "stream",
          "name": "stderr",
          "text": [
            "<ipython-input-20-98410a77cef0>:68: FutureWarning: The frame.append method is deprecated and will be removed from pandas in a future version. Use pandas.concat instead.\n",
            "  output_df = output_df.append(row_to_append,ignore_index=True)\n"
          ]
        },
        {
          "output_type": "stream",
          "name": "stdout",
          "text": [
            "Successfully processed blackassign0045.\n",
            "blackassign0046 is saved as .txt file\n"
          ]
        },
        {
          "output_type": "stream",
          "name": "stderr",
          "text": [
            "<ipython-input-20-98410a77cef0>:68: FutureWarning: The frame.append method is deprecated and will be removed from pandas in a future version. Use pandas.concat instead.\n",
            "  output_df = output_df.append(row_to_append,ignore_index=True)\n"
          ]
        },
        {
          "output_type": "stream",
          "name": "stdout",
          "text": [
            "Successfully processed blackassign0046.\n",
            "blackassign0047 is saved as .txt file\n"
          ]
        },
        {
          "output_type": "stream",
          "name": "stderr",
          "text": [
            "<ipython-input-20-98410a77cef0>:68: FutureWarning: The frame.append method is deprecated and will be removed from pandas in a future version. Use pandas.concat instead.\n",
            "  output_df = output_df.append(row_to_append,ignore_index=True)\n"
          ]
        },
        {
          "output_type": "stream",
          "name": "stdout",
          "text": [
            "Successfully processed blackassign0047.\n",
            "blackassign0048 is saved as .txt file\n",
            "Successfully processed blackassign0048.\n"
          ]
        },
        {
          "output_type": "stream",
          "name": "stderr",
          "text": [
            "<ipython-input-20-98410a77cef0>:68: FutureWarning: The frame.append method is deprecated and will be removed from pandas in a future version. Use pandas.concat instead.\n",
            "  output_df = output_df.append(row_to_append,ignore_index=True)\n"
          ]
        },
        {
          "output_type": "stream",
          "name": "stdout",
          "text": [
            "Cannot download Web-Page :( \n",
            "Skipping\n",
            "blackassign0050 is saved as .txt file\n"
          ]
        },
        {
          "output_type": "stream",
          "name": "stderr",
          "text": [
            "<ipython-input-20-98410a77cef0>:68: FutureWarning: The frame.append method is deprecated and will be removed from pandas in a future version. Use pandas.concat instead.\n",
            "  output_df = output_df.append(row_to_append,ignore_index=True)\n"
          ]
        },
        {
          "output_type": "stream",
          "name": "stdout",
          "text": [
            "Successfully processed blackassign0050.\n",
            "blackassign0051 is saved as .txt file\n",
            "Successfully processed blackassign0051.\n"
          ]
        },
        {
          "output_type": "stream",
          "name": "stderr",
          "text": [
            "<ipython-input-20-98410a77cef0>:68: FutureWarning: The frame.append method is deprecated and will be removed from pandas in a future version. Use pandas.concat instead.\n",
            "  output_df = output_df.append(row_to_append,ignore_index=True)\n"
          ]
        },
        {
          "output_type": "stream",
          "name": "stdout",
          "text": [
            "blackassign0052 is saved as .txt file\n"
          ]
        },
        {
          "output_type": "stream",
          "name": "stderr",
          "text": [
            "<ipython-input-20-98410a77cef0>:68: FutureWarning: The frame.append method is deprecated and will be removed from pandas in a future version. Use pandas.concat instead.\n",
            "  output_df = output_df.append(row_to_append,ignore_index=True)\n"
          ]
        },
        {
          "output_type": "stream",
          "name": "stdout",
          "text": [
            "Successfully processed blackassign0052.\n",
            "blackassign0053 is saved as .txt file\n",
            "Successfully processed blackassign0053.\n"
          ]
        },
        {
          "output_type": "stream",
          "name": "stderr",
          "text": [
            "<ipython-input-20-98410a77cef0>:68: FutureWarning: The frame.append method is deprecated and will be removed from pandas in a future version. Use pandas.concat instead.\n",
            "  output_df = output_df.append(row_to_append,ignore_index=True)\n"
          ]
        },
        {
          "output_type": "stream",
          "name": "stdout",
          "text": [
            "blackassign0054 is saved as .txt file\n",
            "Successfully processed blackassign0054.\n"
          ]
        },
        {
          "output_type": "stream",
          "name": "stderr",
          "text": [
            "<ipython-input-20-98410a77cef0>:68: FutureWarning: The frame.append method is deprecated and will be removed from pandas in a future version. Use pandas.concat instead.\n",
            "  output_df = output_df.append(row_to_append,ignore_index=True)\n"
          ]
        },
        {
          "output_type": "stream",
          "name": "stdout",
          "text": [
            "blackassign0055 is saved as .txt file\n"
          ]
        },
        {
          "output_type": "stream",
          "name": "stderr",
          "text": [
            "<ipython-input-20-98410a77cef0>:68: FutureWarning: The frame.append method is deprecated and will be removed from pandas in a future version. Use pandas.concat instead.\n",
            "  output_df = output_df.append(row_to_append,ignore_index=True)\n"
          ]
        },
        {
          "output_type": "stream",
          "name": "stdout",
          "text": [
            "Successfully processed blackassign0055.\n",
            "blackassign0056 is saved as .txt file\n",
            "Successfully processed blackassign0056.\n"
          ]
        },
        {
          "output_type": "stream",
          "name": "stderr",
          "text": [
            "<ipython-input-20-98410a77cef0>:68: FutureWarning: The frame.append method is deprecated and will be removed from pandas in a future version. Use pandas.concat instead.\n",
            "  output_df = output_df.append(row_to_append,ignore_index=True)\n"
          ]
        },
        {
          "output_type": "stream",
          "name": "stdout",
          "text": [
            "blackassign0057 is saved as .txt file\n",
            "Successfully processed blackassign0057.\n"
          ]
        },
        {
          "output_type": "stream",
          "name": "stderr",
          "text": [
            "<ipython-input-20-98410a77cef0>:68: FutureWarning: The frame.append method is deprecated and will be removed from pandas in a future version. Use pandas.concat instead.\n",
            "  output_df = output_df.append(row_to_append,ignore_index=True)\n"
          ]
        },
        {
          "output_type": "stream",
          "name": "stdout",
          "text": [
            "blackassign0058 is saved as .txt file\n",
            "Successfully processed blackassign0058.\n"
          ]
        },
        {
          "output_type": "stream",
          "name": "stderr",
          "text": [
            "<ipython-input-20-98410a77cef0>:68: FutureWarning: The frame.append method is deprecated and will be removed from pandas in a future version. Use pandas.concat instead.\n",
            "  output_df = output_df.append(row_to_append,ignore_index=True)\n"
          ]
        },
        {
          "output_type": "stream",
          "name": "stdout",
          "text": [
            "blackassign0059 is saved as .txt file\n",
            "Successfully processed blackassign0059.\n"
          ]
        },
        {
          "output_type": "stream",
          "name": "stderr",
          "text": [
            "<ipython-input-20-98410a77cef0>:68: FutureWarning: The frame.append method is deprecated and will be removed from pandas in a future version. Use pandas.concat instead.\n",
            "  output_df = output_df.append(row_to_append,ignore_index=True)\n"
          ]
        },
        {
          "output_type": "stream",
          "name": "stdout",
          "text": [
            "blackassign0060 is saved as .txt file\n",
            "Successfully processed blackassign0060.\n"
          ]
        },
        {
          "output_type": "stream",
          "name": "stderr",
          "text": [
            "<ipython-input-20-98410a77cef0>:68: FutureWarning: The frame.append method is deprecated and will be removed from pandas in a future version. Use pandas.concat instead.\n",
            "  output_df = output_df.append(row_to_append,ignore_index=True)\n"
          ]
        },
        {
          "output_type": "stream",
          "name": "stdout",
          "text": [
            "blackassign0061 is saved as .txt file\n"
          ]
        },
        {
          "output_type": "stream",
          "name": "stderr",
          "text": [
            "<ipython-input-20-98410a77cef0>:68: FutureWarning: The frame.append method is deprecated and will be removed from pandas in a future version. Use pandas.concat instead.\n",
            "  output_df = output_df.append(row_to_append,ignore_index=True)\n"
          ]
        },
        {
          "output_type": "stream",
          "name": "stdout",
          "text": [
            "Successfully processed blackassign0061.\n",
            "blackassign0062 is saved as .txt file\n",
            "Successfully processed blackassign0062.\n"
          ]
        },
        {
          "output_type": "stream",
          "name": "stderr",
          "text": [
            "<ipython-input-20-98410a77cef0>:68: FutureWarning: The frame.append method is deprecated and will be removed from pandas in a future version. Use pandas.concat instead.\n",
            "  output_df = output_df.append(row_to_append,ignore_index=True)\n"
          ]
        },
        {
          "output_type": "stream",
          "name": "stdout",
          "text": [
            "blackassign0063 is saved as .txt file\n"
          ]
        },
        {
          "output_type": "stream",
          "name": "stderr",
          "text": [
            "<ipython-input-20-98410a77cef0>:68: FutureWarning: The frame.append method is deprecated and will be removed from pandas in a future version. Use pandas.concat instead.\n",
            "  output_df = output_df.append(row_to_append,ignore_index=True)\n"
          ]
        },
        {
          "output_type": "stream",
          "name": "stdout",
          "text": [
            "Successfully processed blackassign0063.\n",
            "blackassign0064 is saved as .txt file\n"
          ]
        },
        {
          "output_type": "stream",
          "name": "stderr",
          "text": [
            "<ipython-input-20-98410a77cef0>:68: FutureWarning: The frame.append method is deprecated and will be removed from pandas in a future version. Use pandas.concat instead.\n",
            "  output_df = output_df.append(row_to_append,ignore_index=True)\n"
          ]
        },
        {
          "output_type": "stream",
          "name": "stdout",
          "text": [
            "Successfully processed blackassign0064.\n",
            "blackassign0065 is saved as .txt file\n"
          ]
        },
        {
          "output_type": "stream",
          "name": "stderr",
          "text": [
            "<ipython-input-20-98410a77cef0>:68: FutureWarning: The frame.append method is deprecated and will be removed from pandas in a future version. Use pandas.concat instead.\n",
            "  output_df = output_df.append(row_to_append,ignore_index=True)\n"
          ]
        },
        {
          "output_type": "stream",
          "name": "stdout",
          "text": [
            "Successfully processed blackassign0065.\n",
            "blackassign0066 is saved as .txt file\n"
          ]
        },
        {
          "output_type": "stream",
          "name": "stderr",
          "text": [
            "<ipython-input-20-98410a77cef0>:68: FutureWarning: The frame.append method is deprecated and will be removed from pandas in a future version. Use pandas.concat instead.\n",
            "  output_df = output_df.append(row_to_append,ignore_index=True)\n"
          ]
        },
        {
          "output_type": "stream",
          "name": "stdout",
          "text": [
            "Successfully processed blackassign0066.\n",
            "blackassign0067 is saved as .txt file\n",
            "Successfully processed blackassign0067.\n"
          ]
        },
        {
          "output_type": "stream",
          "name": "stderr",
          "text": [
            "<ipython-input-20-98410a77cef0>:68: FutureWarning: The frame.append method is deprecated and will be removed from pandas in a future version. Use pandas.concat instead.\n",
            "  output_df = output_df.append(row_to_append,ignore_index=True)\n"
          ]
        },
        {
          "output_type": "stream",
          "name": "stdout",
          "text": [
            "blackassign0068 is saved as .txt file\n"
          ]
        },
        {
          "output_type": "stream",
          "name": "stderr",
          "text": [
            "<ipython-input-20-98410a77cef0>:68: FutureWarning: The frame.append method is deprecated and will be removed from pandas in a future version. Use pandas.concat instead.\n",
            "  output_df = output_df.append(row_to_append,ignore_index=True)\n"
          ]
        },
        {
          "output_type": "stream",
          "name": "stdout",
          "text": [
            "Successfully processed blackassign0068.\n",
            "blackassign0069 is saved as .txt file\n",
            "Successfully processed blackassign0069.\n"
          ]
        },
        {
          "output_type": "stream",
          "name": "stderr",
          "text": [
            "<ipython-input-20-98410a77cef0>:68: FutureWarning: The frame.append method is deprecated and will be removed from pandas in a future version. Use pandas.concat instead.\n",
            "  output_df = output_df.append(row_to_append,ignore_index=True)\n"
          ]
        },
        {
          "output_type": "stream",
          "name": "stdout",
          "text": [
            "blackassign0070 is saved as .txt file\n"
          ]
        },
        {
          "output_type": "stream",
          "name": "stderr",
          "text": [
            "<ipython-input-20-98410a77cef0>:68: FutureWarning: The frame.append method is deprecated and will be removed from pandas in a future version. Use pandas.concat instead.\n",
            "  output_df = output_df.append(row_to_append,ignore_index=True)\n"
          ]
        },
        {
          "output_type": "stream",
          "name": "stdout",
          "text": [
            "Successfully processed blackassign0070.\n",
            "blackassign0071 is saved as .txt file\n",
            "Successfully processed blackassign0071.\n"
          ]
        },
        {
          "output_type": "stream",
          "name": "stderr",
          "text": [
            "<ipython-input-20-98410a77cef0>:68: FutureWarning: The frame.append method is deprecated and will be removed from pandas in a future version. Use pandas.concat instead.\n",
            "  output_df = output_df.append(row_to_append,ignore_index=True)\n"
          ]
        },
        {
          "output_type": "stream",
          "name": "stdout",
          "text": [
            "blackassign0072 is saved as .txt file\n",
            "Successfully processed blackassign0072.\n"
          ]
        },
        {
          "output_type": "stream",
          "name": "stderr",
          "text": [
            "<ipython-input-20-98410a77cef0>:68: FutureWarning: The frame.append method is deprecated and will be removed from pandas in a future version. Use pandas.concat instead.\n",
            "  output_df = output_df.append(row_to_append,ignore_index=True)\n"
          ]
        },
        {
          "output_type": "stream",
          "name": "stdout",
          "text": [
            "blackassign0073 is saved as .txt file\n"
          ]
        },
        {
          "output_type": "stream",
          "name": "stderr",
          "text": [
            "<ipython-input-20-98410a77cef0>:68: FutureWarning: The frame.append method is deprecated and will be removed from pandas in a future version. Use pandas.concat instead.\n",
            "  output_df = output_df.append(row_to_append,ignore_index=True)\n"
          ]
        },
        {
          "output_type": "stream",
          "name": "stdout",
          "text": [
            "Successfully processed blackassign0073.\n",
            "blackassign0074 is saved as .txt file\n"
          ]
        },
        {
          "output_type": "stream",
          "name": "stderr",
          "text": [
            "<ipython-input-20-98410a77cef0>:68: FutureWarning: The frame.append method is deprecated and will be removed from pandas in a future version. Use pandas.concat instead.\n",
            "  output_df = output_df.append(row_to_append,ignore_index=True)\n"
          ]
        },
        {
          "output_type": "stream",
          "name": "stdout",
          "text": [
            "Successfully processed blackassign0074.\n",
            "blackassign0075 is saved as .txt file\n",
            "Successfully processed blackassign0075.\n"
          ]
        },
        {
          "output_type": "stream",
          "name": "stderr",
          "text": [
            "<ipython-input-20-98410a77cef0>:68: FutureWarning: The frame.append method is deprecated and will be removed from pandas in a future version. Use pandas.concat instead.\n",
            "  output_df = output_df.append(row_to_append,ignore_index=True)\n"
          ]
        },
        {
          "output_type": "stream",
          "name": "stdout",
          "text": [
            "blackassign0076 is saved as .txt file\n"
          ]
        },
        {
          "output_type": "stream",
          "name": "stderr",
          "text": [
            "<ipython-input-20-98410a77cef0>:68: FutureWarning: The frame.append method is deprecated and will be removed from pandas in a future version. Use pandas.concat instead.\n",
            "  output_df = output_df.append(row_to_append,ignore_index=True)\n"
          ]
        },
        {
          "output_type": "stream",
          "name": "stdout",
          "text": [
            "Successfully processed blackassign0076.\n",
            "blackassign0077 is saved as .txt file\n"
          ]
        },
        {
          "output_type": "stream",
          "name": "stderr",
          "text": [
            "<ipython-input-20-98410a77cef0>:68: FutureWarning: The frame.append method is deprecated and will be removed from pandas in a future version. Use pandas.concat instead.\n",
            "  output_df = output_df.append(row_to_append,ignore_index=True)\n"
          ]
        },
        {
          "output_type": "stream",
          "name": "stdout",
          "text": [
            "Successfully processed blackassign0077.\n",
            "blackassign0078 is saved as .txt file\n"
          ]
        },
        {
          "output_type": "stream",
          "name": "stderr",
          "text": [
            "<ipython-input-20-98410a77cef0>:68: FutureWarning: The frame.append method is deprecated and will be removed from pandas in a future version. Use pandas.concat instead.\n",
            "  output_df = output_df.append(row_to_append,ignore_index=True)\n"
          ]
        },
        {
          "output_type": "stream",
          "name": "stdout",
          "text": [
            "Successfully processed blackassign0078.\n",
            "blackassign0079 is saved as .txt file\n"
          ]
        },
        {
          "output_type": "stream",
          "name": "stderr",
          "text": [
            "<ipython-input-20-98410a77cef0>:68: FutureWarning: The frame.append method is deprecated and will be removed from pandas in a future version. Use pandas.concat instead.\n",
            "  output_df = output_df.append(row_to_append,ignore_index=True)\n"
          ]
        },
        {
          "output_type": "stream",
          "name": "stdout",
          "text": [
            "Successfully processed blackassign0079.\n",
            "blackassign0080 is saved as .txt file\n"
          ]
        },
        {
          "output_type": "stream",
          "name": "stderr",
          "text": [
            "<ipython-input-20-98410a77cef0>:68: FutureWarning: The frame.append method is deprecated and will be removed from pandas in a future version. Use pandas.concat instead.\n",
            "  output_df = output_df.append(row_to_append,ignore_index=True)\n"
          ]
        },
        {
          "output_type": "stream",
          "name": "stdout",
          "text": [
            "Successfully processed blackassign0080.\n",
            "blackassign0081 is saved as .txt file\n"
          ]
        },
        {
          "output_type": "stream",
          "name": "stderr",
          "text": [
            "<ipython-input-20-98410a77cef0>:68: FutureWarning: The frame.append method is deprecated and will be removed from pandas in a future version. Use pandas.concat instead.\n",
            "  output_df = output_df.append(row_to_append,ignore_index=True)\n"
          ]
        },
        {
          "output_type": "stream",
          "name": "stdout",
          "text": [
            "Successfully processed blackassign0081.\n",
            "blackassign0082 is saved as .txt file\n"
          ]
        },
        {
          "output_type": "stream",
          "name": "stderr",
          "text": [
            "<ipython-input-20-98410a77cef0>:68: FutureWarning: The frame.append method is deprecated and will be removed from pandas in a future version. Use pandas.concat instead.\n",
            "  output_df = output_df.append(row_to_append,ignore_index=True)\n"
          ]
        },
        {
          "output_type": "stream",
          "name": "stdout",
          "text": [
            "Successfully processed blackassign0082.\n",
            "blackassign0083 is saved as .txt file\n",
            "Successfully processed blackassign0083.\n"
          ]
        },
        {
          "output_type": "stream",
          "name": "stderr",
          "text": [
            "<ipython-input-20-98410a77cef0>:68: FutureWarning: The frame.append method is deprecated and will be removed from pandas in a future version. Use pandas.concat instead.\n",
            "  output_df = output_df.append(row_to_append,ignore_index=True)\n"
          ]
        },
        {
          "output_type": "stream",
          "name": "stdout",
          "text": [
            "blackassign0084 is saved as .txt file\n",
            "Successfully processed blackassign0084.\n"
          ]
        },
        {
          "output_type": "stream",
          "name": "stderr",
          "text": [
            "<ipython-input-20-98410a77cef0>:68: FutureWarning: The frame.append method is deprecated and will be removed from pandas in a future version. Use pandas.concat instead.\n",
            "  output_df = output_df.append(row_to_append,ignore_index=True)\n"
          ]
        },
        {
          "output_type": "stream",
          "name": "stdout",
          "text": [
            "blackassign0085 is saved as .txt file\n"
          ]
        },
        {
          "output_type": "stream",
          "name": "stderr",
          "text": [
            "<ipython-input-20-98410a77cef0>:68: FutureWarning: The frame.append method is deprecated and will be removed from pandas in a future version. Use pandas.concat instead.\n",
            "  output_df = output_df.append(row_to_append,ignore_index=True)\n"
          ]
        },
        {
          "output_type": "stream",
          "name": "stdout",
          "text": [
            "Successfully processed blackassign0085.\n",
            "blackassign0086 is saved as .txt file\n"
          ]
        },
        {
          "output_type": "stream",
          "name": "stderr",
          "text": [
            "<ipython-input-20-98410a77cef0>:68: FutureWarning: The frame.append method is deprecated and will be removed from pandas in a future version. Use pandas.concat instead.\n",
            "  output_df = output_df.append(row_to_append,ignore_index=True)\n"
          ]
        },
        {
          "output_type": "stream",
          "name": "stdout",
          "text": [
            "Successfully processed blackassign0086.\n",
            "blackassign0087 is saved as .txt file\n",
            "Successfully processed blackassign0087.\n"
          ]
        },
        {
          "output_type": "stream",
          "name": "stderr",
          "text": [
            "<ipython-input-20-98410a77cef0>:68: FutureWarning: The frame.append method is deprecated and will be removed from pandas in a future version. Use pandas.concat instead.\n",
            "  output_df = output_df.append(row_to_append,ignore_index=True)\n"
          ]
        },
        {
          "output_type": "stream",
          "name": "stdout",
          "text": [
            "blackassign0088 is saved as .txt file\n"
          ]
        },
        {
          "output_type": "stream",
          "name": "stderr",
          "text": [
            "<ipython-input-20-98410a77cef0>:68: FutureWarning: The frame.append method is deprecated and will be removed from pandas in a future version. Use pandas.concat instead.\n",
            "  output_df = output_df.append(row_to_append,ignore_index=True)\n"
          ]
        },
        {
          "output_type": "stream",
          "name": "stdout",
          "text": [
            "Successfully processed blackassign0088.\n",
            "blackassign0089 is saved as .txt file\n",
            "Successfully processed blackassign0089.\n"
          ]
        },
        {
          "output_type": "stream",
          "name": "stderr",
          "text": [
            "<ipython-input-20-98410a77cef0>:68: FutureWarning: The frame.append method is deprecated and will be removed from pandas in a future version. Use pandas.concat instead.\n",
            "  output_df = output_df.append(row_to_append,ignore_index=True)\n"
          ]
        },
        {
          "output_type": "stream",
          "name": "stdout",
          "text": [
            "blackassign0090 is saved as .txt file\n",
            "Successfully processed blackassign0090.\n"
          ]
        },
        {
          "output_type": "stream",
          "name": "stderr",
          "text": [
            "<ipython-input-20-98410a77cef0>:68: FutureWarning: The frame.append method is deprecated and will be removed from pandas in a future version. Use pandas.concat instead.\n",
            "  output_df = output_df.append(row_to_append,ignore_index=True)\n"
          ]
        },
        {
          "output_type": "stream",
          "name": "stdout",
          "text": [
            "blackassign0091 is saved as .txt file\n",
            "Successfully processed blackassign0091.\n"
          ]
        },
        {
          "output_type": "stream",
          "name": "stderr",
          "text": [
            "<ipython-input-20-98410a77cef0>:68: FutureWarning: The frame.append method is deprecated and will be removed from pandas in a future version. Use pandas.concat instead.\n",
            "  output_df = output_df.append(row_to_append,ignore_index=True)\n"
          ]
        },
        {
          "output_type": "stream",
          "name": "stdout",
          "text": [
            "blackassign0092 is saved as .txt file\n"
          ]
        },
        {
          "output_type": "stream",
          "name": "stderr",
          "text": [
            "<ipython-input-20-98410a77cef0>:68: FutureWarning: The frame.append method is deprecated and will be removed from pandas in a future version. Use pandas.concat instead.\n",
            "  output_df = output_df.append(row_to_append,ignore_index=True)\n"
          ]
        },
        {
          "output_type": "stream",
          "name": "stdout",
          "text": [
            "Successfully processed blackassign0092.\n",
            "blackassign0093 is saved as .txt file\n",
            "Successfully processed blackassign0093.\n"
          ]
        },
        {
          "output_type": "stream",
          "name": "stderr",
          "text": [
            "<ipython-input-20-98410a77cef0>:68: FutureWarning: The frame.append method is deprecated and will be removed from pandas in a future version. Use pandas.concat instead.\n",
            "  output_df = output_df.append(row_to_append,ignore_index=True)\n"
          ]
        },
        {
          "output_type": "stream",
          "name": "stdout",
          "text": [
            "blackassign0094 is saved as .txt file\n"
          ]
        },
        {
          "output_type": "stream",
          "name": "stderr",
          "text": [
            "<ipython-input-20-98410a77cef0>:68: FutureWarning: The frame.append method is deprecated and will be removed from pandas in a future version. Use pandas.concat instead.\n",
            "  output_df = output_df.append(row_to_append,ignore_index=True)\n"
          ]
        },
        {
          "output_type": "stream",
          "name": "stdout",
          "text": [
            "Successfully processed blackassign0094.\n",
            "blackassign0095 is saved as .txt file\n"
          ]
        },
        {
          "output_type": "stream",
          "name": "stderr",
          "text": [
            "<ipython-input-20-98410a77cef0>:68: FutureWarning: The frame.append method is deprecated and will be removed from pandas in a future version. Use pandas.concat instead.\n",
            "  output_df = output_df.append(row_to_append,ignore_index=True)\n"
          ]
        },
        {
          "output_type": "stream",
          "name": "stdout",
          "text": [
            "Successfully processed blackassign0095.\n",
            "blackassign0096 is saved as .txt file\n"
          ]
        },
        {
          "output_type": "stream",
          "name": "stderr",
          "text": [
            "<ipython-input-20-98410a77cef0>:68: FutureWarning: The frame.append method is deprecated and will be removed from pandas in a future version. Use pandas.concat instead.\n",
            "  output_df = output_df.append(row_to_append,ignore_index=True)\n"
          ]
        },
        {
          "output_type": "stream",
          "name": "stdout",
          "text": [
            "Successfully processed blackassign0096.\n",
            "blackassign0097 is saved as .txt file\n",
            "Successfully processed blackassign0097.\n"
          ]
        },
        {
          "output_type": "stream",
          "name": "stderr",
          "text": [
            "<ipython-input-20-98410a77cef0>:68: FutureWarning: The frame.append method is deprecated and will be removed from pandas in a future version. Use pandas.concat instead.\n",
            "  output_df = output_df.append(row_to_append,ignore_index=True)\n"
          ]
        },
        {
          "output_type": "stream",
          "name": "stdout",
          "text": [
            "blackassign0098 is saved as .txt file\n",
            "Successfully processed blackassign0098.\n"
          ]
        },
        {
          "output_type": "stream",
          "name": "stderr",
          "text": [
            "<ipython-input-20-98410a77cef0>:68: FutureWarning: The frame.append method is deprecated and will be removed from pandas in a future version. Use pandas.concat instead.\n",
            "  output_df = output_df.append(row_to_append,ignore_index=True)\n"
          ]
        },
        {
          "output_type": "stream",
          "name": "stdout",
          "text": [
            "blackassign0099 is saved as .txt file\n",
            "Successfully processed blackassign0099.\n"
          ]
        },
        {
          "output_type": "stream",
          "name": "stderr",
          "text": [
            "<ipython-input-20-98410a77cef0>:68: FutureWarning: The frame.append method is deprecated and will be removed from pandas in a future version. Use pandas.concat instead.\n",
            "  output_df = output_df.append(row_to_append,ignore_index=True)\n"
          ]
        },
        {
          "output_type": "stream",
          "name": "stdout",
          "text": [
            "blackassign0100 is saved as .txt file\n",
            "Successfully processed blackassign0100.\n",
            "\n",
            "All files processed, kindly find .txt article files and output.csv file in the '/content/' folder.\n",
            "The following webpage could not be downloaded:\n",
            "https://insights.blackcoffer.com/how-neural-networks-can-be-applied-in-various-areas-in-the-future/\n",
            "https://insights.blackcoffer.com/covid-19-environmental-impact-for-the-future/\n",
            "*******END OF EXECUTION*******\n"
          ]
        },
        {
          "output_type": "stream",
          "name": "stderr",
          "text": [
            "<ipython-input-20-98410a77cef0>:68: FutureWarning: The frame.append method is deprecated and will be removed from pandas in a future version. Use pandas.concat instead.\n",
            "  output_df = output_df.append(row_to_append,ignore_index=True)\n"
          ]
        }
      ]
    }
  ]
}